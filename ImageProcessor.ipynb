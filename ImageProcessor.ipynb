{
 "cells": [
  {
   "cell_type": "code",
   "execution_count": null,
   "id": "4a64583d-ef45-4acf-8823-6e43c6b93d42",
   "metadata": {
    "scrolled": true
   },
   "outputs": [],
   "source": [
    "#pip install -r requirements.txt"
   ]
  },
  {
   "cell_type": "code",
   "execution_count": null,
   "id": "81a3f876-ef7f-45f9-b2e7-a3c0c0cab59d",
   "metadata": {
    "scrolled": true
   },
   "outputs": [],
   "source": [
    "import numpy as np\n",
    "import matplotlib.pyplot as plt\n",
    "import cv2\n",
    "\n",
    "from scipy import ndimage as ndi\n",
    "from scipy.ndimage import binary_dilation"
   ]
  },
  {
   "cell_type": "code",
   "execution_count": null,
   "id": "24ff3bcc-0f1c-4c86-8446-86d0f9fa04cb",
   "metadata": {},
   "outputs": [],
   "source": [
    "def show(img):\n",
    "    plt.imshow(img)\n",
    "    plt.show()"
   ]
  },
  {
   "cell_type": "code",
   "execution_count": null,
   "id": "e65d0b5f-6cdc-4fa5-8512-47676ea9d01d",
   "metadata": {},
   "outputs": [],
   "source": [
    "def compare(imgs=[]):\n",
    "    if len(imgs) == 0:\n",
    "        return\n",
    "    \n",
    "    f, ax_arr = plt.subplots(1,len(imgs))\n",
    "    for i, img in enumerate(imgs):\n",
    "        ax_arr[i].imshow(img)\n",
    "\n",
    "    plt.show()"
   ]
  },
  {
   "cell_type": "code",
   "execution_count": null,
   "id": "13c160d8-9244-4f14-b18c-6e3adea9c711",
   "metadata": {
    "scrolled": true
   },
   "outputs": [],
   "source": [
    "img_src = cv2.imread(\"./source_images/arm1.jpg\")\n",
    "img = cv2.cvtColor(img_src, cv2.COLOR_BGR2RGB)\n",
    "hsv_img = cv2.cvtColor(img_src, cv2.COLOR_BGR2HSV)\n",
    "\n",
    "compare([img, img_src, hsv_img])"
   ]
  },
  {
   "cell_type": "code",
   "execution_count": null,
   "id": "d215e7f8-b516-427d-bd24-60ca503cf4ef",
   "metadata": {},
   "outputs": [],
   "source": [
    "lower_skin_color_range = np.array([0, 48, 80], dtype=np.uint8)\n",
    "upper_skin_color_range = np.array([20, 255, 255], dtype=np.uint8)\n",
    "\n",
    "\n",
    "skin_mask = cv2.inRange(hsv_img ,lower_skin_color_range, upper_skin_color_range)\n",
    "show(skin_mask)"
   ]
  },
  {
   "cell_type": "code",
   "execution_count": null,
   "id": "faa05fcd-641f-4c00-a42d-6c89116afbfd",
   "metadata": {
    "scrolled": true
   },
   "outputs": [],
   "source": [
    "skin_mask_filled = ndi.binary_fill_holes(skin_mask).astype(np.uint8) * 255\n",
    "\n",
    "compare([skin_mask, skin_mask_filled])"
   ]
  },
  {
   "cell_type": "code",
   "execution_count": null,
   "id": "10357828-8ad8-418e-91c7-b2419776fe65",
   "metadata": {},
   "outputs": [],
   "source": [
    "skin_mask_filled = ndi.binary_fill_holes(skin_mask).astype(np.uint8) * 255\n",
    "skin_region = cv2.bitwise_and(img, img, mask=skin_mask_filled)"
   ]
  },
  {
   "cell_type": "code",
   "execution_count": null,
   "id": "9f7bb6f0-2bf1-4528-9bf6-71b24c489269",
   "metadata": {},
   "outputs": [],
   "source": [
    "# CENTER OF MASS\n",
    "center_y, center_x = [np.average(indices) for indices in np.where(skin_mask >= 255)]\n",
    "\n",
    "# CONSTANTS\n",
    "AVG_ARM_SIZE = 9 #cm\n",
    "SQUARE_WIDTH = 2.5 #cm\n",
    "\n",
    "image_heigh, image_width, _ = img.shape"
   ]
  },
  {
   "cell_type": "code",
   "execution_count": null,
   "id": "6ae08899-a844-4618-af07-9d96e91baff2",
   "metadata": {},
   "outputs": [],
   "source": [
    "# Proporção do tamanho do braço em relação a imagem\n",
    "ratio = (center_x * 2) / image_width\n",
    "# Projeção do tamanho do quadrado a ser desenhado em relação ao tamanho do braço\n",
    "square_size = int(((image_width * ratio) / AVG_ARM_SIZE) * SQUARE_WIDTH)"
   ]
  },
  {
   "cell_type": "code",
   "execution_count": null,
   "id": "b2513f10-5b48-489b-b521-b428d951a2c9",
   "metadata": {},
   "outputs": [],
   "source": [
    "drawable_img = img.copy()\n",
    "\n",
    "x_top_left = int(center_x - square_size / 2)\n",
    "y_top_left = int(center_y - square_size / 2)\n",
    "x_bottom_right = int(center_x + square_size / 2)\n",
    "y_bottom_right = int(center_y + square_size / 2)\n",
    "\n",
    "drawable_img = cv2.rectangle(\n",
    "    drawable_img, \n",
    "    (x_top_left, y_top_left), \n",
    "    (x_bottom_right, y_bottom_right), \n",
    "    (0, 255, 0), \n",
    "    2\n",
    ")\n",
    "compare([img, drawable_img])\n",
    "show(drawable_img)"
   ]
  },
  {
   "cell_type": "code",
   "execution_count": null,
   "id": "70897d38-7c14-47d1-b59f-eb15f30fb965",
   "metadata": {},
   "outputs": [],
   "source": [
    "square_mask = np.zeros(img.shape[:2], dtype=np.uint8)\n",
    "square_mask = cv2.rectangle(\n",
    "    square_mask,\n",
    "    (x_top_left, y_top_left),\n",
    "    (x_bottom_right, y_bottom_right),\n",
    "    255,\n",
    "    -1\n",
    ")\n",
    "show(square_mask)"
   ]
  },
  {
   "cell_type": "code",
   "execution_count": null,
   "id": "d392a056-603a-496d-bb14-79bb59affa33",
   "metadata": {},
   "outputs": [],
   "source": [
    "selected_area = cv2.bitwise_and(img, img, mask=square_mask)\n",
    "compare([img, selected_area])"
   ]
  },
  {
   "cell_type": "code",
   "execution_count": null,
   "id": "5a464722-9d19-4d73-babb-b49e5c2132bd",
   "metadata": {},
   "outputs": [],
   "source": [
    "blue, green, red = cv2.split(img)\n",
    "show(red)"
   ]
  },
  {
   "cell_type": "code",
   "execution_count": null,
   "id": "1984727f-6092-442f-9433-add0628020ae",
   "metadata": {},
   "outputs": [],
   "source": [
    "non_black_pixels = red[red > 0]\n",
    "hist = cv2.calcHist([non_black_pixels], [0], None, [256], [0, 256])\n",
    "\n",
    "plt.plot(hist, color='black')"
   ]
  },
  {
   "cell_type": "code",
   "execution_count": null,
   "id": "4b143ec6-83cb-414e-846f-d338606401e6",
   "metadata": {},
   "outputs": [],
   "source": [
    "red_channel_area = cv2.bitwise_and(red, red, mask=square_mask)\n",
    "show(red_channel_area)"
   ]
  },
  {
   "cell_type": "code",
   "execution_count": null,
   "id": "6dc2f9cb-9824-4bc1-acdd-9f52a5524fe9",
   "metadata": {},
   "outputs": [],
   "source": [
    "binary_mask = np.where((red > 10) & (red < 80), 255, 0).astype(np.uint8)\n",
    ", 255, 0).astype(np.uint8)"
   ]
  },
  {
   "cell_type": "code",
   "execution_count": null,
   "id": "d6c91b1b-c0ca-4f12-a087-1ae97ffb9dc9",
   "metadata": {},
   "outputs": [],
   "source": [
    "red_with_mask = cv2.bitwise_and(red_channel_area, red_channel_area, mask=binary_mask)"
   ]
  },
  {
   "cell_type": "code",
   "execution_count": null,
   "id": "5b8d90e4-95b8-4b4a-9cac-284e17c33ec2",
   "metadata": {},
   "outputs": [],
   "source": [
    "show(red_with_mask)"
   ]
  },
  {
   "cell_type": "code",
   "execution_count": null,
   "id": "fae9fb10-1bcc-4fec-abb4-ac59ee1ab510",
   "metadata": {},
   "outputs": [],
   "source": [
    "final_img = cv2.bitwise_and(binary_mask, binary_mask, mask=square_mask)"
   ]
  },
  {
   "cell_type": "code",
   "execution_count": null,
   "id": "4a932d27-d38a-4f52-8d43-48389cf789de",
   "metadata": {},
   "outputs": [],
   "source": [
    "contours, _ = cv2.findContours(final_img, cv2.RETR_EXTERNAL, cv2.CHAIN_APPROX_SIMPLE)\n",
    "output_img = img.copy()\n",
    "\n",
    "for contour in contours:\n",
    "    # Ignorar contornos muito pequenos (ruídos)\n",
    "    if cv2.contourArea(contour) >= 0:  # Ajuste o limite conforme necessário\n",
    "        # Encontrar o círculo mínimo que circunscreve o contorno\n",
    "        (x, y), radius = cv2.minEnclosingCircle(contour)\n",
    "        center = (int(x), int(y))\n",
    "        radius = int(radius)\n",
    "\n",
    "        # Desenhar o círculo na imagem\n",
    "        cv2.circle(output_img, center, radius, (0, 255, 0), 5)  # Azul com espessura 2\n",
    "\n",
    "\n",
    "show(output_img)"
   ]
  },
  {
   "cell_type": "code",
   "execution_count": null,
   "id": "04a9391a-88e7-4659-b050-687c91bc9730",
   "metadata": {},
   "outputs": [],
   "source": [
    "cv2.rectangle(\n",
    "    output_img, \n",
    "    (x_top_left, y_top_left), \n",
    "    (x_bottom_right, y_bottom_right), \n",
    "    (0, 255, 0), \n",
    "    2\n",
    ")\n",
    "\n",
    "compare([img, output_img])"
   ]
  },
  {
   "cell_type": "code",
   "execution_count": null,
   "id": "d5865838-d960-46de-8243-a1b94425d754",
   "metadata": {},
   "outputs": [],
   "source": [
    "show(output_img)"
   ]
  },
  {
   "cell_type": "code",
   "execution_count": null,
   "id": "b7c5d036-7a1d-489f-8b66-32b130255f7f",
   "metadata": {},
   "outputs": [],
   "source": [
    "show(img)"
   ]
  }
 ],
 "metadata": {
  "kernelspec": {
   "display_name": "Python 3 (ipykernel)",
   "language": "python",
   "name": "python3"
  },
  "language_info": {
   "codemirror_mode": {
    "name": "ipython",
    "version": 3
   },
   "file_extension": ".py",
   "mimetype": "text/x-python",
   "name": "python",
   "nbconvert_exporter": "python",
   "pygments_lexer": "ipython3",
   "version": "3.11.10"
  }
 },
 "nbformat": 4,
 "nbformat_minor": 5
}
